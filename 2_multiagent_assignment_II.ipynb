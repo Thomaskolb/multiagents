{
 "cells": [
  {
   "cell_type": "code",
   "execution_count": 1,
   "metadata": {},
   "outputs": [],
   "source": [
    "import numpy as np\n",
    "import math\n",
    "import numpy.matlib\n",
    "import matplotlib.pyplot as plt\n",
    "import matplotlib.image as mpimg\n",
    "from mpl_toolkits.mplot3d import Axes3D\n",
    "from matplotlib import cm\n",
    "import matplotlib.colors as mcolors\n",
    "import scipy.optimize as opt\n",
    "import os\n",
    "import sys\n",
    "\n",
    "fig = plt.figure()\n",
    "gs = fig.add_gridspec(2, 2)\n",
    "ax1 = fig.add_subplot(gs[0, 0])\n",
    "ax2 = fig.add_subplot(gs[1, 0])\n",
    "# spans two rows:\n",
    "ax3 = fig.add_subplot(gs[:, 1])"
   ]
  },
  {
   "cell_type": "markdown",
   "metadata": {
    "colab_type": "text",
    "id": "ibpB8ewTWyr2"
   },
   "source": [
    "*April 2021*\n",
    "Representation and Interaction\n",
    "\n",
    "## Multiagent search of lost targets 2D in a static world using range sensors (II)\n",
    "\n",
    "**Author**: Pablo Lanillos Donders Institute\n"
   ]
  },
  {
   "cell_type": "markdown",
   "metadata": {},
   "source": [
    "### Description of the problem\n",
    "\n",
    "<br/>\n",
    "<img src=\"img/problem-definition.png\" width=\"150\" style=\"float: left;\" />\n",
    "This document describes the assignment. The goal of this assignment is to program an algorithm that let multiple searching agents to find the survivors as soon as possible. In other words, the algorithm should compute the optimal actions for the UAVs. In practice it extends previus notebook algorithm to $M$ agents with shared communication and continuous actions."
   ]
  },
  {
   "cell_type": "markdown",
   "metadata": {},
   "source": [
    "The document is composed of the following sections:\n",
    "\n",
    "1. Multiagent search greedy 1 step discrete no communication\n",
    "2. Multiagent search greedy 1 step discrete common belief\n",
    "3. Multiagent search n-step continuous optimization (centralized)\n",
    "4. Heterogenous sensors (only in the report)\n",
    "\n",
    "**Important note:**\n",
    "We will code the solution, instead of using the jupyter notebook, with a normal python script (i.e., Name_Surname_multiagent_RI_2021.py) using your favorite IDE (e.g., PyCharm Community, https://www.jetbrains.com/pycharm/download/). This document is a helper to develop your own code. Please, follow the instructions provided for naming the code. The submission (as explained in the readme) is a python file that is able to run the 3 modes of the algorithm.\n",
    "\n",
    "A variable *exercise* in the beginning of the code will define one of the following behaviours:\n",
    "   - exercise = 1 - Multiagent search greedy 1 step discrete no communication.\n",
    "   - exercise = 2 - Multiagent search greedy 1 step discrete common belief.\n",
    "   - exercise = 3 - Multiagent search n-step continuous centralized optimization.\n",
    "\n",
    "*It is extremly important that you code is clean for proper evaluation*\n",
    "\n",
    "**References**: \n",
    "- Lanillos, P. (2013): Minimum time search of moving targets in uncertain environments. Ph.D. Dissertation. url: \n",
    "http://www.therobotdecision.com/papers/PhD_MinimumTimeSearch_2013_FinalElectronic_English_PabloLanillos.pdf\n",
    "\n",
    "*Continuous*\n",
    "- Lanillos, P., Gan, S. K., Besada-Portas, E., Pajares, G., & Sukkarieh, S. (2014). Multi-UAV target search using decentralized gradient-based negotiation with expected observation. Information Sciences, 282, 92-110.\n",
    "\n",
    "*Discrete*\n",
    "- Lanillos, P., Besada-Portas, E., Pajares, G., & Ruz, J. J. (2012, October). Minimum time search for lost targets using cross entropy optimization. In 2012 IEEE/RSJ International Conference on Intelligent Robots and Systems (pp. 602-609). IEEE.\n"
   ]
  },
  {
   "cell_type": "markdown",
   "metadata": {},
   "source": [
    "### Import needed libraries"
   ]
  },
  {
   "cell_type": "code",
   "execution_count": 7,
   "metadata": {
    "colab": {},
    "colab_type": "code",
    "id": "9tY3eAeVafuY"
   },
   "outputs": [],
   "source": [
    "# Numpy numerical library -> import [library] as name\n",
    "import numpy as np\n",
    "\n",
    "# Plotting libraries -> matplotlib\n",
    "import matplotlib.pyplot as plt \n",
    "from mpl_toolkits.mplot3d import Axes3D # 3D plots\n",
    "from matplotlib import cm # Color maps\n",
    "import math\n",
    "\n",
    "# Matrix auxiliary functions\n",
    "import numpy.matlib\n",
    "\n",
    "# System libraries\n",
    "import os\n",
    "import sys"
   ]
  },
  {
   "cell_type": "markdown",
   "metadata": {},
   "source": [
    "### 1. Multiagent search greedy 1 step discrete no communication\n",
    "\n",
    "#### Observation model reminder\n",
    "Remember to use for all exercises the same values for the sensor"
   ]
  },
  {
   "cell_type": "code",
   "execution_count": 8,
   "metadata": {},
   "outputs": [],
   "source": [
    "Pdmax = 0.8 # Max range sensor\n",
    "dmax = 4 # Max distance\n",
    "sigma = 0.7 # Sensor spread (standard deviation)\n",
    "delta = 0.5 # Constant displacement\n",
    "mat = [[0, 0], [-delta, 0], [-delta, delta], [0, delta], [delta, delta], [delta, 0], [delta, -delta], [0, -delta], [-delta, -delta]]"
   ]
  },
  {
   "cell_type": "code",
   "execution_count": 9,
   "metadata": {},
   "outputs": [
    {
     "name": "stdout",
     "output_type": "stream",
     "text": [
      "[[ 0  0  0 ...  0  0  0]\n",
      " [ 1  1  1 ...  1  1  1]\n",
      " [ 2  2  2 ...  2  2  2]\n",
      " ...\n",
      " [37 37 37 ... 37 37 37]\n",
      " [38 38 38 ... 38 38 38]\n",
      " [39 39 39 ... 39 39 39]]\n"
     ]
    }
   ],
   "source": [
    "width = height = 40\n",
    "# x, y = np.arange(width), np.arange(height)\n",
    "map_size = np.array([width, height])\n",
    "X, Y = np.meshgrid(np.arange(map_size[0]), np.arange(map_size[1])) \n",
    "\n",
    "map_x = X.flatten() # Convert matrix into a single vector useful for operating \n",
    "map_y = Y.flatten() # Convert matrix into a single vector useful for operating \n",
    "\n",
    "## Write your code here\n",
    "# Compute the sensor P(\\overline{D}) with a function with name \n",
    "# def sensor_pnd( ... ):\n",
    "def sensor_pnd(d, dmax, Pdmax, sigma):\n",
    "    return 1 - Pdmax*math.exp(-sigma*(d/dmax)**2)\n",
    "\n",
    "def distance(xi, xj, i, j):\n",
    "    return math.sqrt((i - xi)**2 + (j - xj)**2)\n",
    "\n",
    "# Plot the sensor\n",
    "# width = height = 40 # Size of the environment\n",
    "# map = np.zeros((width, height))\n",
    "# for i in map_x:\n",
    "#     for j in map_y:\n",
    "#         d = distance(x[0], x[1], i, j)\n",
    "#         map[i, j] = sensor_pnd(d, dmax, Pdmax, sigma)\n",
    "print(Y)"
   ]
  },
  {
   "cell_type": "markdown",
   "metadata": {},
   "source": [
    "#### Agent class\n",
    "We first code the agent as a python class to do a modular programming approach that will aid in the design of the final algorithm\n"
   ]
  },
  {
   "cell_type": "code",
   "execution_count": 25,
   "metadata": {},
   "outputs": [],
   "source": [
    "class Agent:\n",
    "\n",
    "    # Constructor\n",
    "    def __init__(self, i, bk, env, state=np.array([0.,0.])):\n",
    "        \n",
    "        self.id = i  # Create an instance variable\n",
    "        \n",
    "        ## Environment. Tip it would be efficient to compute the grid into one vector as we did in the previous notebook        \n",
    "#         X, Y = np.meshgrid(map_size[0], map_size[1])\n",
    "#         self.map_x = X.flatten()\n",
    "#         self.map_y = Y.flatten()\n",
    "        \n",
    "        self.bk = bk\n",
    "        self.env = env\n",
    "\n",
    "        ## Agent params\n",
    "        self.x = state\n",
    "        self.track = self.x.T # Stores all positions. Aux variable for visualization of the agent path\n",
    "        self.height_plot = 0.1\n",
    "        \n",
    "        # add extra agents params\n",
    "        \n",
    "        ## Sensor params\n",
    "        \n",
    "\n",
    "    # get id\n",
    "    def get_id(self):\n",
    "        return self.id\n",
    "\n",
    "    # compute discrete forward states 1 step ahead\n",
    "    def forward(self):\n",
    "        return np.random.permutation(\n",
    "            [[a+self.x[0], b+self.x[1]] for [a, b] in self.env.mat if a+self.x[0] >= 0 \n",
    "             and a+self.x[0] < 40 and b+self.x[1] >= 0 and b+self.x[1] < 40])\n",
    "        \n",
    "    # computes utility of forward state\n",
    "#     def nodetect_observation(self, x):\n",
    "#         pnd = []\n",
    "#         return pnd\n",
    "    \n",
    "    # computes utility of states\n",
    "    def utility(self, fs):\n",
    "        # compute cost funtion J of all potential forward states (brute force method)\n",
    "        J = []\n",
    "        for state in fs:\n",
    "            utility = 0\n",
    "            for x in range(self.env.width):\n",
    "                for y in range(self.env.height):\n",
    "                    d = distance(state[0], state[1], x, y)\n",
    "                    utility += sensor_pnd(d, dmax, Pdmax, sigma)*self.bk[x, y]\n",
    "            J.append(utility)\n",
    "        return J\n",
    "    \n",
    "    def next_best_state(self):\n",
    "        fs = self.forward()\n",
    "        J = self.utility(fs)\n",
    "#         print(fs)\n",
    "#         print(J)\n",
    "#         print(fs[J.index(min(J))])\n",
    "        return fs[J.index(min(J))]\n",
    "      \n",
    "    # simulate agent next state\n",
    "    def next(self, state):\n",
    "        self.x = state\n",
    "        self.track = np.vstack((self.track, self.x))\n",
    "\n",
    "    # update belief with observation at state self.x\n",
    "    def update_belief(self):\n",
    "        for x in range(self.env.width):\n",
    "            for y in range(self.env.height):\n",
    "                d = distance(self.x[0], self.x[1], x, y)\n",
    "                self.bk[x, y] = sensor_pnd(d, dmax, Pdmax, sigma)*self.bk[x, y]\n",
    "        self.bk = self.bk/np.sum(self.bk)\n",
    "      \n",
    "    def plot(self, ax):\n",
    "        # Reshape belief for plotting\n",
    "        bkx = self.bk.reshape((self.env.width, self.env.height))\n",
    "        ax.cla() # clear axis plot\n",
    "        \n",
    "        # plot contour of the P(\\tau) -> self.bk\n",
    "#         cset = ax.contourf(X, Y, bkx, zdir='z', offset=-0.005, cmap=cm.viridis)\n",
    "\n",
    "        # plot agent trajectory, self.track\n",
    "        ax.plot(self.track[:, 0], self.track[:, 1], np.ones(self.track.shape[0]) * self.height_plot, 'r-', linewidth=2);\n",
    "        ax.plot([self.track[-1, 0], self.track[-1, 0]], [self.track[-1, 1], self.track[-1, 1]], [self.height_plot, 0], 'ko-', linewidth=2);\n",
    "\n",
    "        ax.set_xlabel('x')\n",
    "        ax.set_ylabel('y')\n",
    "        ax.set_zlabel('P')\n",
    "\n",
    "        # Adjust the limits, ticks and view angle\n",
    "        ax.set_zlim(0, 0.12)\n",
    "        ax.view_init(27, -21)\n",
    "    "
   ]
  },
  {
   "cell_type": "code",
   "execution_count": 11,
   "metadata": {},
   "outputs": [
    {
     "ename": "TypeError",
     "evalue": "__init__() missing 2 required positional arguments: 'bk' and 'env'",
     "output_type": "error",
     "traceback": [
      "\u001b[1;31m---------------------------------------------------------------------------\u001b[0m",
      "\u001b[1;31mTypeError\u001b[0m                                 Traceback (most recent call last)",
      "\u001b[1;32m<ipython-input-11-6db7d85b232c>\u001b[0m in \u001b[0;36m<module>\u001b[1;34m\u001b[0m\n\u001b[0;32m      1\u001b[0m \u001b[1;31m# Create agent 0, move it to position (0,0) and plot it\u001b[0m\u001b[1;33m\u001b[0m\u001b[1;33m\u001b[0m\u001b[1;33m\u001b[0m\u001b[0m\n\u001b[1;32m----> 2\u001b[1;33m \u001b[0ma\u001b[0m \u001b[1;33m=\u001b[0m \u001b[0mAgent\u001b[0m\u001b[1;33m(\u001b[0m\u001b[1;36m0\u001b[0m\u001b[1;33m)\u001b[0m\u001b[1;33m\u001b[0m\u001b[1;33m\u001b[0m\u001b[0m\n\u001b[0m\u001b[0;32m      3\u001b[0m \u001b[0ma\u001b[0m\u001b[1;33m.\u001b[0m\u001b[0mnext\u001b[0m\u001b[1;33m(\u001b[0m\u001b[0mnp\u001b[0m\u001b[1;33m.\u001b[0m\u001b[0marray\u001b[0m\u001b[1;33m(\u001b[0m\u001b[1;33m[\u001b[0m\u001b[1;36m0\u001b[0m\u001b[1;33m,\u001b[0m\u001b[1;36m0\u001b[0m\u001b[1;33m]\u001b[0m\u001b[1;33m)\u001b[0m\u001b[1;33m)\u001b[0m\u001b[1;33m\u001b[0m\u001b[1;33m\u001b[0m\u001b[0m\n\u001b[0;32m      4\u001b[0m \u001b[0mfig\u001b[0m \u001b[1;33m=\u001b[0m \u001b[0mplt\u001b[0m\u001b[1;33m.\u001b[0m\u001b[0mfigure\u001b[0m\u001b[1;33m(\u001b[0m\u001b[1;33m)\u001b[0m\u001b[1;33m\u001b[0m\u001b[1;33m\u001b[0m\u001b[0m\n\u001b[0;32m      5\u001b[0m \u001b[0max\u001b[0m \u001b[1;33m=\u001b[0m \u001b[0mfig\u001b[0m\u001b[1;33m.\u001b[0m\u001b[0mgca\u001b[0m\u001b[1;33m(\u001b[0m\u001b[0mprojection\u001b[0m\u001b[1;33m=\u001b[0m\u001b[1;34m'3d'\u001b[0m\u001b[1;33m)\u001b[0m\u001b[1;33m\u001b[0m\u001b[1;33m\u001b[0m\u001b[0m\n",
      "\u001b[1;31mTypeError\u001b[0m: __init__() missing 2 required positional arguments: 'bk' and 'env'"
     ]
    }
   ],
   "source": [
    "# Create agent 0, move it to position (0,0) and plot it\n",
    "a = Agent(0)\n",
    "a.next(np.array([0,0]))\n",
    "fig = plt.figure()\n",
    "ax = fig.gca(projection='3d')\n",
    "a.plot(ax)"
   ]
  },
  {
   "cell_type": "code",
   "execution_count": null,
   "metadata": {},
   "outputs": [],
   "source": []
  },
  {
   "cell_type": "code",
   "execution_count": 12,
   "metadata": {},
   "outputs": [
    {
     "ename": "TypeError",
     "evalue": "__init__() missing 1 required positional argument: 'env'",
     "output_type": "error",
     "traceback": [
      "\u001b[1;31m---------------------------------------------------------------------------\u001b[0m",
      "\u001b[1;31mTypeError\u001b[0m                                 Traceback (most recent call last)",
      "\u001b[1;32m<ipython-input-12-0f84786ca56f>\u001b[0m in \u001b[0;36m<module>\u001b[1;34m\u001b[0m\n\u001b[0;32m      3\u001b[0m \u001b[1;31m# with mean in the middle of an environment of 40x40 and covariance [[40,0], [0,60]]\u001b[0m\u001b[1;33m\u001b[0m\u001b[1;33m\u001b[0m\u001b[1;33m\u001b[0m\u001b[0m\n\u001b[0;32m      4\u001b[0m \u001b[1;31m# Remember to normalize the belief\u001b[0m\u001b[1;33m\u001b[0m\u001b[1;33m\u001b[0m\u001b[1;33m\u001b[0m\u001b[0m\n\u001b[1;32m----> 5\u001b[1;33m \u001b[0ma1\u001b[0m \u001b[1;33m=\u001b[0m \u001b[0mAgent\u001b[0m\u001b[1;33m(\u001b[0m\u001b[1;36m1\u001b[0m\u001b[1;33m,\u001b[0m \u001b[0mnp\u001b[0m\u001b[1;33m.\u001b[0m\u001b[0marray\u001b[0m\u001b[1;33m(\u001b[0m\u001b[1;33m[\u001b[0m\u001b[1;36m5\u001b[0m\u001b[1;33m,\u001b[0m\u001b[1;36m5\u001b[0m\u001b[1;33m]\u001b[0m\u001b[1;33m)\u001b[0m\u001b[1;33m)\u001b[0m\u001b[1;33m\u001b[0m\u001b[1;33m\u001b[0m\u001b[0m\n\u001b[0m\u001b[0;32m      6\u001b[0m \u001b[0ma1\u001b[0m\u001b[1;33m.\u001b[0m\u001b[0mnext\u001b[0m\u001b[1;33m(\u001b[0m\u001b[0mnp\u001b[0m\u001b[1;33m.\u001b[0m\u001b[0marray\u001b[0m\u001b[1;33m(\u001b[0m\u001b[1;33m[\u001b[0m\u001b[1;36m5\u001b[0m\u001b[1;33m,\u001b[0m\u001b[1;36m5\u001b[0m\u001b[1;33m]\u001b[0m\u001b[1;33m)\u001b[0m\u001b[1;33m)\u001b[0m\u001b[1;33m\u001b[0m\u001b[1;33m\u001b[0m\u001b[0m\n\u001b[0;32m      7\u001b[0m \u001b[0ma2\u001b[0m \u001b[1;33m=\u001b[0m \u001b[0mAgent\u001b[0m\u001b[1;33m(\u001b[0m\u001b[1;36m2\u001b[0m\u001b[1;33m,\u001b[0m \u001b[0mnp\u001b[0m\u001b[1;33m.\u001b[0m\u001b[0marray\u001b[0m\u001b[1;33m(\u001b[0m\u001b[1;33m[\u001b[0m\u001b[1;36m30\u001b[0m\u001b[1;33m,\u001b[0m\u001b[1;36m30\u001b[0m\u001b[1;33m]\u001b[0m\u001b[1;33m)\u001b[0m\u001b[1;33m)\u001b[0m\u001b[1;33m\u001b[0m\u001b[1;33m\u001b[0m\u001b[0m\n",
      "\u001b[1;31mTypeError\u001b[0m: __init__() missing 1 required positional argument: 'env'"
     ]
    }
   ],
   "source": [
    "# Create agent 1 in position(5,5) and agent 2 in position (30,30)\n",
    "# with initial belief the Gaussian distribution \n",
    "# with mean in the middle of an environment of 40x40 and covariance [[40,0], [0,60]]\n",
    "# Remember to normalize the belief\n",
    "a1 = Agent(1, np.array([5,5]))\n",
    "a1.next(np.array([5,5]))\n",
    "a2 = Agent(2, np.array([30,30]))\n",
    "a2.next(np.array([30,30]))\n",
    "\n",
    "# Plot the agents        \n",
    "fig1 = plt.figure(\"agent 1\")\n",
    "ax1 = fig1.gca(projection='3d')\n",
    "a1.plot(ax1)\n",
    "fig2 = plt.figure(\"agent 2\")\n",
    "ax2 = fig2.gca(projection='3d')\n",
    "a2.plot(ax2)\n",
    "\n"
   ]
  },
  {
   "cell_type": "markdown",
   "metadata": {},
   "source": [
    "#### Handling multiple agents\n",
    "We create a list of agents $l = [a_1,a_2,\\ldots,a_M]$ and we iterate over it in a python way: "
   ]
  },
  {
   "cell_type": "code",
   "execution_count": 13,
   "metadata": {},
   "outputs": [
    {
     "ename": "TypeError",
     "evalue": "__init__() missing 2 required positional arguments: 'bk' and 'env'",
     "output_type": "error",
     "traceback": [
      "\u001b[1;31m---------------------------------------------------------------------------\u001b[0m",
      "\u001b[1;31mTypeError\u001b[0m                                 Traceback (most recent call last)",
      "\u001b[1;32m<ipython-input-13-e8ebaf93ed8d>\u001b[0m in \u001b[0;36m<module>\u001b[1;34m\u001b[0m\n\u001b[0;32m      1\u001b[0m \u001b[0magents\u001b[0m \u001b[1;33m=\u001b[0m \u001b[1;33m[\u001b[0m\u001b[1;33m]\u001b[0m\u001b[1;33m\u001b[0m\u001b[1;33m\u001b[0m\u001b[0m\n\u001b[1;32m----> 2\u001b[1;33m \u001b[0magents\u001b[0m\u001b[1;33m.\u001b[0m\u001b[0mappend\u001b[0m\u001b[1;33m(\u001b[0m\u001b[0mAgent\u001b[0m\u001b[1;33m(\u001b[0m\u001b[1;36m0\u001b[0m\u001b[1;33m)\u001b[0m\u001b[1;33m)\u001b[0m \u001b[1;31m# add agent\u001b[0m\u001b[1;33m\u001b[0m\u001b[1;33m\u001b[0m\u001b[0m\n\u001b[0m\u001b[0;32m      3\u001b[0m \u001b[0magents\u001b[0m\u001b[1;33m.\u001b[0m\u001b[0mappend\u001b[0m\u001b[1;33m(\u001b[0m\u001b[0mAgent\u001b[0m\u001b[1;33m(\u001b[0m\u001b[1;36m1\u001b[0m\u001b[1;33m)\u001b[0m\u001b[1;33m)\u001b[0m\u001b[1;33m\u001b[0m\u001b[1;33m\u001b[0m\u001b[0m\n\u001b[0;32m      4\u001b[0m \u001b[0magents\u001b[0m\u001b[1;33m.\u001b[0m\u001b[0mappend\u001b[0m\u001b[1;33m(\u001b[0m\u001b[0mAgent\u001b[0m\u001b[1;33m(\u001b[0m\u001b[1;36m2\u001b[0m\u001b[1;33m)\u001b[0m\u001b[1;33m)\u001b[0m\u001b[1;33m\u001b[0m\u001b[1;33m\u001b[0m\u001b[0m\n\u001b[0;32m      5\u001b[0m \u001b[1;33m\u001b[0m\u001b[0m\n",
      "\u001b[1;31mTypeError\u001b[0m: __init__() missing 2 required positional arguments: 'bk' and 'env'"
     ]
    }
   ],
   "source": [
    "agents = []\n",
    "agents.append(Agent(0)) # add agent\n",
    "agents.append(Agent(1))\n",
    "agents.append(Agent(2))\n",
    "\n",
    "for a in agents:\n",
    "    #compute\n",
    "    pass\n",
    "    "
   ]
  },
  {
   "cell_type": "markdown",
   "metadata": {},
   "source": [
    "#### Code your code in a python script\n",
    "\n",
    "Now that you know how to program the agent class we will create a python script using your preferred IDE (Name_Surname_multiagent_RI_2021.py). You will program there the algorithm as follows:"
   ]
  },
  {
   "cell_type": "code",
   "execution_count": 27,
   "metadata": {},
   "outputs": [
    {
     "name": "stdout",
     "output_type": "stream",
     "text": [
      "-------------------------------------------------\n",
      "\n",
      "> M-Agents search 2D (1 n-step ahead no comm)\n",
      "\n"
     ]
    },
    {
     "data": {
      "image/png": "[encoded data removed]",
      "text/plain": [
       "<Figure size 432x288 with 1 Axes>"
      ]
     },
     "metadata": {
      "needs_background": "light"
     },
     "output_type": "display_data"
    }
   ],
   "source": [
    "import numpy as np\n",
    "import numpy.matlib\n",
    "import matplotlib.pyplot as plt\n",
    "import matplotlib.image as mpimg\n",
    "from mpl_toolkits.mplot3d import Axes3D\n",
    "from matplotlib import cm\n",
    "import matplotlib.colors as mcolors\n",
    "\n",
    "import scipy.optimize as opt\n",
    "\n",
    "import os\n",
    "import sys\n",
    "\n",
    "def bivariate_gaussian(w, h, mu, Sigma, X, Y):\n",
    "    COV_1 = np.linalg.inv(Sigma) # Compute the inverse Sigma^-1\n",
    "    p = np.zeros(w*h) # probability map\n",
    "    d = np.array([X.ravel()-mu[0],Y.ravel()-mu[1]]) # distances (x- \\mu)\n",
    "    # Compute probability of each point\n",
    "    for i in range(0,w*h):\n",
    "        p[i] = np.exp(- 0.5 * d[:,i].dot(COV_1).dot(d[:,i].transpose()))\n",
    "    p = p/np.sum(p) # normalize to sum to 1\n",
    "    P = p.reshape((w, h)) # rank 2 square matrix \n",
    "    return P\n",
    "\n",
    "# class Agent:\n",
    "    # Complete the agent class\n",
    "#     pass\n",
    "    \n",
    "class Environment:\n",
    "    # Use it to store parameters and for ploting functions\n",
    "    def __init__(self, map_size = np.array([40, 40]), sigma = np.array([[40,0],[0,60]])):\n",
    "        self.width = map_size[0]\n",
    "        self.height = map_size[1]\n",
    "        self.X, self.Y = np.meshgrid(np.arange(self.width), np.arange(self.height))\n",
    "        self.mu = np.array([self.width/2., self.height/2.]) # center point\n",
    "        self.sigma = sigma # Bimodal covariance with no dependence.\n",
    "        self.mat = [[0, 0], [-delta, 0], [-delta, delta], [0, delta], [delta, delta], [delta, 0], [delta, -delta], [0, -delta], [-delta, -delta]]\n",
    "        \n",
    "\n",
    "print('-------------------------------------------------\\n');\n",
    "print('> M-Agents search 2D (1 n-step ahead no comm)\\n')\n",
    "\n",
    "nagents = 2\n",
    "# Create environment\n",
    "env = Environment()\n",
    "\n",
    "# Create bivariate gaussian distribution\n",
    "belief = bivariate_gaussian(env.width, env.height, env.mu, env.sigma, env.X, env.Y)\n",
    "\n",
    "# Create agents\n",
    "agents = []\n",
    "a0 = Agent(0, belief, env, np.array([5,5]))\n",
    "# a0.next(np.array([5,5]))\n",
    "agents.append(a0)\n",
    "a1 = Agent(1, belief, env, np.array([30,30]))\n",
    "# a1.next(np.array([30,30]))\n",
    "# agents.append(a1)\n",
    "\n",
    "# Global plot for animations\n",
    "fig = plt.figure()\n",
    "ax = fig.gca(projection='3d')\n",
    "plt.ion()\n",
    "\n",
    "# Start algorithm\n",
    "ite = 0  # iteration count\n",
    "nite = 50  # number of iterations\n",
    "found = 0  # target found\n",
    "\n",
    "## start search\n",
    "while not found and ite < nite:\n",
    "\n",
    "    for a in agents:\n",
    "        a.next(a.next_best_state())\n",
    "        a.update_belief()\n",
    "        ax.set_zlim(-0.005,0.004)\n",
    "        ax.view_init(27, -21)\n",
    "        a.plot(ax)\n",
    "    \n",
    "#     cset = ax.contourf(X, Y, belief, zdir='z', offset=-0.005, cmap=cm.viridis)\n",
    "#     ax.set_zlim(-0.005,0.004)\n",
    "#     ax.view_init(27, -21)\n",
    "    \n",
    "    # plot\n",
    "    plt.draw()\n",
    "#     plt.pause(0.1)  # animation\n",
    "\n",
    "    # iteration count\n",
    "    ite += 1\n",
    "    \n",
    "# for a in agents:\n",
    "#     ax.set_zlim(-0.005,0.004)\n",
    "#     ax.view_init(27, -21)\n",
    "#     a.plot(ax)\n",
    "# fig = plt.figure()\n",
    "# ax = fig.gca(projection='3d')\n",
    "# ax.plot_surface(X, Y, agents[0].bk, rstride=3, cstride=3, linewidth=1, antialiased=True, cmap=cm.viridis)\n",
    "# cset = ax.contourf(X, Y, agents[0].bk, zdir='z', offset=-0.002, cmap=cm.viridis)\n",
    "\n",
    "# Adjust the limits, ticks and view angle\n",
    "# ax.set_zlim(-0.002,0.001)\n",
    "# ax.view_init(27, -21)\n",
    "# plt.show()"
   ]
  },
  {
   "cell_type": "code",
   "execution_count": 28,
   "metadata": {},
   "outputs": [
    {
     "data": {
      "image/png": "[encoded data removed]",
      "text/plain": [
       "<Figure size 432x288 with 1 Axes>"
      ]
     },
     "metadata": {
      "needs_background": "light"
     },
     "output_type": "display_data"
    },
    {
     "data": {
      "image/png": "[encoded data removed]",
      "text/plain": [
       "<Figure size 432x288 with 1 Axes>"
      ]
     },
     "metadata": {
      "needs_background": "light"
     },
     "output_type": "display_data"
    },
    {
     "data": {
      "image/png": "[encoded data removed]",
      "text/plain": [
       "<Figure size 432x288 with 1 Axes>"
      ]
     },
     "metadata": {
      "needs_background": "light"
     },
     "output_type": "display_data"
    },
    {
     "data": {
      "image/png": "[encoded data removed]",
      "text/plain": [
       "<Figure size 432x288 with 1 Axes>"
      ]
     },
     "metadata": {
      "needs_background": "light"
     },
     "output_type": "display_data"
    },
    {
     "data": {
      "image/png": "[encoded data removed]",
      "text/plain": [
       "<Figure size 432x288 with 1 Axes>"
      ]
     },
     "metadata": {
      "needs_background": "light"
     },
     "output_type": "display_data"
    }
   ],
   "source": [
    "# Implementation of matplotlib function\n",
    "import numpy as np\n",
    "import matplotlib.pyplot as plt\n",
    "   \n",
    "np.random.seed(19)\n",
    "data = np.random.random((5, 10, 10))\n",
    "  \n",
    "   \n",
    "for i in range(len(data)):\n",
    "    plt.cla()\n",
    "    plt.title('matplotlib.pyplot.pause() function Example\\n\\n Window {}'.format(i), fontweight =\"bold\")\n",
    "    plt.imshow(data[i])\n",
    "    plt.pause(0.1)"
   ]
  },
  {
   "cell_type": "markdown",
   "metadata": {},
   "source": [
    "### 2. Multiagent search greedy 1 step discrete common belief\n",
    "\n",
    "Extend your previous code to enable the agents share a global shared belief representation\n"
   ]
  },
  {
   "cell_type": "code",
   "execution_count": 15,
   "metadata": {},
   "outputs": [
    {
     "data": {
      "image/png": "[encoded data removed]",
      "text/plain": [
       "<Figure size 432x288 with 1 Axes>"
      ]
     },
     "metadata": {
      "needs_background": "light"
     },
     "output_type": "display_data"
    },
    {
     "data": {
      "text/plain": [
       "<Figure size 432x288 with 0 Axes>"
      ]
     },
     "metadata": {},
     "output_type": "display_data"
    }
   ],
   "source": [
    "nagents = 2\n",
    "# Create environment\n",
    "\n",
    "# Create agents\n",
    "\n",
    "# Global plot for animations\n",
    "fig = plt.figure()\n",
    "ax = fig.gca(projection='3d')\n",
    "plt.ion()\n",
    "\n",
    "# Start algorithm\n",
    "ite = 0  # iteration count\n",
    "nite = 2  # number of iterations\n",
    "found = 0  # target found\n",
    "\n",
    "# Initialize common belief  bk = prior probability map p(\\tau)\n",
    "\n",
    "## start search\n",
    "while not found and ite < nite:\n",
    "\n",
    "    # Compute next best state for each agent given the common belief\n",
    "    \n",
    "    # Update common belief\n",
    "        \n",
    "    # plot\n",
    "    plt.draw()\n",
    "    plt.pause(0.1)  # animation\n",
    "\n",
    "    # iteration count\n",
    "    ite += 1"
   ]
  },
  {
   "cell_type": "markdown",
   "metadata": {},
   "source": [
    "### 3. Multiagent search n-step continuous optimization (centralized)\n",
    "\n",
    "This section is the most advanced one. Agents will select the n-actions ahead collaborativelly that maximize the probability of finding the survivors. In this case the agents instead of discrete actions will perform continuous pice-wise actions:\n",
    "\n",
    "<img src=\"img/actions-continuous.png\" width=\"400\" />\n",
    "\n",
    "From state $s^k$ at time step $k$ to time step $k+1$ the agent perform the turn action $u^k$ (constant) that makes the UAV to change its heading. Then, when arriving at state $s^{k+1}$ the agent makes an observation $z^k$.\n"
   ]
  },
  {
   "cell_type": "markdown",
   "metadata": {},
   "source": [
    "#### Agent dynamics\n",
    "We define the agent state the $s = \\{x,y,\\phi\\}$, where $\\phi$ is the turning angle. The state dynamics $\\dot{s}$ are defined by its differential equations. Below I provide the function to compute the next state given the action (turn rate)."
   ]
  },
  {
   "cell_type": "code",
   "execution_count": 2,
   "metadata": {},
   "outputs": [],
   "source": [
    "class AgentContinuos():\n",
    "\n",
    "    # Constructor\n",
    "    def __init__(self):\n",
    "        self.V = 2  # Velocity of the agent\n",
    "        self.dt = 1  # Interval for euler integration (continuous case)\n",
    "        self.max_turn_change = 0.2  # Max angle turn (action bounds)\n",
    "        \n",
    "        self.x = np.array([5,5,0.2])\n",
    "        self.track = self.x.T # Stores all positions\n",
    "        \n",
    "    # set next state\n",
    "    def next(self, vk):\n",
    "        # singular case u = 0 -> the integral changes\n",
    "        if vk == 0:\n",
    "            self.x[0] = self.x[0] + self.dt * self.V * np.cos(self.x[2])\n",
    "            self.x[1] = self.x[1] + self.dt * self.V * np.sin(self.x[2])\n",
    "            self.x[2]= self.x[2]\n",
    "        else:\n",
    "            desp = self.V / vk\n",
    "            if np.isinf(desp) or np.isnan(desp):\n",
    "                print('forwardstates:V/u -> error');\n",
    "            self.x[0] = self.x[0] + desp * (np.sin(self.x[2] + vk * self.dt) - np.sin(self.x[2]))\n",
    "            self.x[1] = self.x[1] + desp * (-np.cos(self.x[2] + vk * self.dt) + np.cos(self.x[2]))\n",
    "            self.x[2] = self.x[2] + vk * self.dt\n",
    "\n",
    "        self.track = np.vstack((self.track, self.x))\n"
   ]
  },
  {
   "cell_type": "code",
   "execution_count": 3,
   "metadata": {},
   "outputs": [
    {
     "data": {
      "image/png": "[encoded data removed]",
      "text/plain": [
       "<Figure size 432x288 with 1 Axes>"
      ]
     },
     "metadata": {
      "needs_background": "light"
     },
     "output_type": "display_data"
    }
   ],
   "source": [
    "a = AgentContinuos()\n",
    "\n",
    "# an example of ploting 8 steps of the agent trajectory\n",
    "for i in range(8):\n",
    "    a.next(0.15)\n",
    "\n",
    "# plot agent trajectory, self.track   \n",
    "fig = plt.figure()\n",
    "ax = fig.gca(projection='3d')\n",
    "ax.plot(a.track[:, 0], a.track[:, 1], np.ones(a.track.shape[0]) * 0.1, 'r-', linewidth=2);\n",
    "ax.plot([a.track[-1, 0], a.track[-1, 0]], [a.track[-1, 1], a.track[-1, 1]], [0.1, 0], 'ko-', linewidth=2);\n",
    "plt.show()\n",
    "\n",
    "    "
   ]
  },
  {
   "cell_type": "markdown",
   "metadata": {},
   "source": [
    "#### Multiagent utility function\n",
    "We need a function that evaluates how good are the actions of the team. We have $M$ agents and we want to compute the $N$ step ahead actions that optimize the following function:\n",
    "\n",
    "$$ U(x) = \\int_{\\tau^k} \\left[\\prod_{j=0}^N \\prod_{i=0}^M p(\\overline{D}| x_{i}^{k+j},\\tau)\\right] b_\\tau^{k-1} d\\tau$$\n",
    "\n",
    "Remember that the state $x^{k+1}$ is directily obtained by a function of the previous state $x^{k}$ and the action $u^k$\n",
    "\n",
    "*What changes in this utility function if we only have one agent?*"
   ]
  },
  {
   "cell_type": "code",
   "execution_count": 101,
   "metadata": {},
   "outputs": [],
   "source": [
    "def multi_utility(uk, agents, N, bk):\n",
    "    value = 1\n",
    "    for j in range(N):\n",
    "        for a in agents:\n",
    "            a.next(uk)\n",
    "            for x in range(env.width):\n",
    "                for y in range(env.height):\n",
    "                    d = distance(a.x[0], a.x[1], x, y)\n",
    "                    value *= sensor_pnd(d, dmax, Pdmax, sigma)\n",
    "    np.dot(bk, value)\n",
    "    return value"
   ]
  },
  {
   "cell_type": "markdown",
   "metadata": {},
   "source": [
    "#### Optimizer\n",
    "In order to compute the best actions we will use a general optimizer from scipy python library. The optimizer returns the best actions found."
   ]
  },
  {
   "cell_type": "code",
   "execution_count": 1,
   "metadata": {},
   "outputs": [],
   "source": [
    "import scipy.optimize as opt\n",
    "\n",
    "class Optimizer:\n",
    "\n",
    "    def __init__(self):\n",
    "        self.method = 'trust-constr' # Optimization method\n",
    "        self.jac = \"2-point\" # Automatic Jacobian finite differenciation\n",
    "        self.hess =  opt.SR1() # opt.BFGS() method for the hessian computation\n",
    "        self.ul = np.pi / 4  # Max turn constraint for our problem (action limits). How much the vehicle can turn\n",
    "\n",
    "    # fun - function to optimize, \n",
    "    # x0 - variables initialization (velocities at each instant), \n",
    "    # agents - structure with the information of each agent\n",
    "    # N - steps ahead\n",
    "    # bk - current belief of the environment. Probability of finding the target.\n",
    "    def optimize(self, fun, x0, agents, N, bk):\n",
    "        # write your optimization call using scipy.optimize.minimize\n",
    "        n = x0.shape[0]\n",
    "        # Define the bounds of the variables in our case the limits of the actions variables, here the velocties\n",
    "        bounds = opt.Bounds(np.ones(n) * (-self.ul), np.ones(n) * self.ul) \n",
    "        # minimize the cost function. Note that I added the as arguments the extra variables needed for the function.\n",
    "        res = opt.minimize(fun, x0, args=(agents, N, bk), method=self.method, jac=self.jac, hess=self.hess, bounds=bounds)\n",
    "        #  options={'verbose': 1})\n",
    "        return res"
   ]
  },
  {
   "cell_type": "markdown",
   "metadata": {},
   "source": [
    "Note that the function (*fun*) optimized is the multiagent utility function. Furthermore, *x0* is the initial state of the variables to be optimized. Here, we are optimizing the turnrate of each agent at each time step. A wise initialization is to set all turnrates to some number close to 0, like 0.001. Initializing with zeroes it is also possible but could give converngence problems. "
   ]
  },
  {
   "cell_type": "markdown",
   "metadata": {},
   "source": [
    "#### Final code\n",
    "Extend to your python code with the centralized optimization using 3 agents with continuous actions and that select the best actions using the optimizer. A plot of the agents working:\n",
    "\n",
    "<img src=\"img/solution-continuous.png\" width=\"400\" />\n"
   ]
  },
  {
   "cell_type": "markdown",
   "metadata": {},
   "source": [
    "### 4. Heterogeneous sensors\n",
    "\n",
    "Describe in the report how you can model agents with different sensors and how the utility function will change and the rest of the algorithm."
   ]
  },
  {
   "cell_type": "markdown",
   "metadata": {},
   "source": [
    "## Summary and submission\n",
    "Submit the report and the python code **Name_Surname_multiagent_RI_2021.py**. A variable in the beginning of the code defines one of the following behaviours:\n",
    "   - exercise = 1 - Multiagent search greedy 1 step discrete no communication.\n",
    "   - exercise = 2 - Multiagent search greedy 1 step discrete common belief.\n",
    "   - exercise = 3 - Multiagent search n-step continuous centralized optimization.\n",
    "\n"
   ]
  },
  {
   "cell_type": "markdown",
   "metadata": {},
   "source": [
    "#### Remark: You have learned to code a state-of-the-art algorithm for multiagents systems in the presence of uncertainty. Several applications can be faced: Search and Rescue, Monitoring, Service robotics, etc. \n",
    "> Hope you enjoyed the assignment. Pablo Lanillos. *Representation & Interaction 2021*"
   ]
  },
  {
   "cell_type": "code",
   "execution_count": null,
   "metadata": {},
   "outputs": [],
   "source": []
  }
 ],
 "metadata": {
  "colab": {
   "collapsed_sections": [],
   "name": "R&I_search.ipynb",
   "provenance": []
  },
  "kernelspec": {
   "display_name": "Python 3",
   "language": "python",
   "name": "python3"
  },
  "language_info": {
   "codemirror_mode": {
    "name": "ipython",
    "version": 3
   },
   "file_extension": ".py",
   "mimetype": "text/x-python",
   "name": "python",
   "nbconvert_exporter": "python",
   "pygments_lexer": "ipython3",
   "version": "3.8.5"
  },
  "varInspector": {
   "cols": {
    "lenName": 16,
    "lenType": 16,
    "lenVar": 40
   },
   "kernels_config": {
    "python": {
     "delete_cmd_postfix": "",
     "delete_cmd_prefix": "del ",
     "library": "var_list.py",
     "varRefreshCmd": "print(var_dic_list())"
    },
    "r": {
     "delete_cmd_postfix": ") ",
     "delete_cmd_prefix": "rm(",
     "library": "var_list.r",
     "varRefreshCmd": "cat(var_dic_list()) "
    }
   },
   "types_to_exclude": [
    "module",
    "function",
    "builtin_function_or_method",
    "instance",
    "_Feature"
   ],
   "window_display": false
  }
 },
 "nbformat": 4,
 "nbformat_minor": 1
}
